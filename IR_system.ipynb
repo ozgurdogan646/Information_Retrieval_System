{
 "cells": [
  {
   "cell_type": "markdown",
   "metadata": {},
   "source": [
    "## IR System For Columnist Data\n",
    "\n",
    "Ozgur DOGAN\n",
    "170709026"
   ]
  },
  {
   "cell_type": "code",
   "execution_count": 1,
   "metadata": {
    "colab": {
     "base_uri": "https://localhost:8080/",
     "height": 55
    },
    "colab_type": "code",
    "id": "WfAaN6Ae3Jpg",
    "outputId": "ad96d482-e279-4c18-d059-df7498d2766b"
   },
   "outputs": [],
   "source": [
    "import io, os\n",
    "import re as re\n",
    "import zipfile as zipfile\n",
    "import math\n",
    "columnistData = [] \n",
    "with zipfile.ZipFile('30Columnists.zip') as z:\n",
    "    for zipinfo in z.infolist():\n",
    "        mytextzip = ''\n",
    "        if zipinfo.filename.endswith('.txt') and re.search('raw_texts', zipinfo.filename):\n",
    "            with z.open(zipinfo) as f:\n",
    "                textfile = io.TextIOWrapper(f, encoding='cp1254', newline='')\n",
    "                for line in textfile:\n",
    "                    if len(line.strip()): mytextzip += ' ' + line.strip()   \n",
    "                columnistData.append(mytextzip)"
   ]
  },
  {
   "cell_type": "code",
   "execution_count": 2,
   "metadata": {},
   "outputs": [],
   "source": [
    "indexing = dict()  # A dictionary for INVERTED INDEXING\n",
    "for index,i in enumerate(columnistData):\n",
    "    i = i.lower()\n",
    "    splitted = i.split()\n",
    "    for j in set(splitted):\n",
    "        if j not in indexing.keys(): \n",
    "            indexing[j] = str(index)   # if we didn't see the word before add it and index of document to dict\n",
    "        else:\n",
    "            indexing[j] += \",\"+str(index)  # else add just the index of document"
   ]
  },
  {
   "cell_type": "code",
   "execution_count": 3,
   "metadata": {},
   "outputs": [],
   "source": [
    "def calculateTfIdf(indexDict,query,postingList):\n",
    "    try:\n",
    "        docs = indexDict[query].split(',') \n",
    "    except:\n",
    "        return None       # If letter is not exist in posts return None\n",
    "    idfScore = len(postingList) / len(docs) + 1  # Added +1 to avoid divison by 0 error.  \n",
    "    tfIdfScoreTotal = dict()\n",
    "    for i in docs:\n",
    "        counter = 0   # Number of the time the word occurs in the text\n",
    "        splitted = postingList[int(i)].split()\n",
    "        for j in splitted:\n",
    "            if j == query :\n",
    "                counter += 1\n",
    "        tfscore = counter / len(splitted)\n",
    "        tfIdfScoreTotal[i] = tfscore * idfScore\n",
    "    return tfIdfScoreTotal"
   ]
  },
  {
   "cell_type": "code",
   "execution_count": 4,
   "metadata": {},
   "outputs": [],
   "source": [
    "def calculateBM25(indexDict,query,postingList,fieldAvg):\n",
    "    try:\n",
    "        docs = indexDict[query].split(',') \n",
    "    except:\n",
    "        return None   \n",
    "    idfScore = len(postingList) / len(docs) + 1\n",
    "    b = 0.75\n",
    "    k1 = 1.6\n",
    "    bm25scores = dict()\n",
    "    for i in docs:\n",
    "        counter = 0\n",
    "        splitted = postingList[int(i)].split()\n",
    "        docLen = len(splitted)\n",
    "        fieldLenAvg = docLen/fieldAvg\n",
    "        for j in splitted:\n",
    "            if j == query :\n",
    "                counter += 1\n",
    "        tfscore = counter / docLen\n",
    "        bm25scores[i] = idfScore * ((tfscore*(k1+1))/(tfscore + (k1*(1-b+(b*fieldLenAvg)))))\n",
    "    return bm25scores"
   ]
  },
  {
   "cell_type": "code",
   "execution_count": 5,
   "metadata": {},
   "outputs": [],
   "source": [
    "def calculateDFI(indexDict,query,postingList,fieldAvg):\n",
    "    try:\n",
    "        docs = indexDict[query].split(',') \n",
    "    except:\n",
    "        return None\n",
    "    dfiScores = dict()\n",
    "    for i in docs:\n",
    "        counter = 0\n",
    "        splitted = postingList[int(i)].split()\n",
    "        docLen = len(splitted)\n",
    "        for j in splitted:\n",
    "            if j == query :\n",
    "                counter += 1\n",
    "        tfscore = counter / len(splitted)\n",
    "        eij = (tfscore*docLen)/fieldAvg\n",
    "        dfiScores[i] = math.log2(((tfscore - eij)/math.sqrt(eij))+1)\n",
    "    return dfiScores"
   ]
  },
  {
   "cell_type": "code",
   "execution_count": 6,
   "metadata": {},
   "outputs": [],
   "source": [
    "def searchIndex(indexDict,query,postingList):\n",
    "    query = query.lower()\n",
    "    splitted_query = query.split()\n",
    "    lastResultTfIdf = dict()\n",
    "    lastResultBM25= dict()\n",
    "    lastResultDFI = dict()\n",
    "    counts = [len(x) for x in postingList]\n",
    "    fieldAvg = sum(counts) / len(counts)\n",
    "    for i in splitted_query:\n",
    "        try:\n",
    "            wordsScoreTfIdf = calculateTfIdf(indexDict,i,postingList)\n",
    "            wordsScoreBM25 = calculateBM25(indexDict,i,postingList,fieldAvg)\n",
    "            wordsScoreDFI = calculateDFI(indexDict,i,postingList,fieldAvg)       \n",
    "            for j in wordsScoreTfIdf.keys():\n",
    "                if j in lastResultTfIdf.keys():\n",
    "                    lastResultTfIdf[j] += wordsScoreTfIdf[j]\n",
    "                else :\n",
    "                    lastResultTfIdf[j] = wordsScoreTfIdf[j]\n",
    "                    \n",
    "            for j in wordsScoreBM25.keys():\n",
    "                if j in lastResultBM25.keys():\n",
    "                    lastResultBM25[j] += wordsScoreBM25[j]\n",
    "                else :\n",
    "                    lastResultBM25[j] = wordsScoreBM25[j]\n",
    "                    \n",
    "            for j in wordsScoreDFI.keys():\n",
    "                if j in lastResultDFI.keys():\n",
    "                    lastResultDFI[j] += wordsScoreDFI[j]\n",
    "                else :\n",
    "                    lastResultDFI[j] = wordsScoreDFI[j]\n",
    "        except:\n",
    "            continue          # If any score is None(That means the word is not exist in posts) just continue\n",
    "    lastResultTfIdf = sorted(lastResultTfIdf.items(), key = lambda kv:(kv[1], kv[0]),reverse = True)\n",
    "    lastResultBM25 = sorted(lastResultBM25.items(), key = lambda kv:(kv[1], kv[0]),reverse = True)\n",
    "    lastResultDFI = sorted(lastResultDFI.items(), key = lambda kv:(kv[1], kv[0]),reverse = True)\n",
    "    return lastResultTfIdf[:10],lastResultBM25[:10],lastResultDFI[:10]  # Return best 3 matches"
   ]
  },
  {
   "cell_type": "code",
   "execution_count": 7,
   "metadata": {},
   "outputs": [],
   "source": [
    "def find_map_score(keys):\n",
    "    summ=0\n",
    "    a=0\n",
    "    for i in range(len(columnistData)):\n",
    "        if i in keys:\n",
    "            a+=1\n",
    "            summ+=a/(i+1)\n",
    "        else:\n",
    "            summ+=a/(i+1)\n",
    "\n",
    "    return summ/len(columnistData)"
   ]
  },
  {
   "cell_type": "code",
   "execution_count": 8,
   "metadata": {},
   "outputs": [],
   "source": [
    "def getKeys(results):\n",
    "    return [int(x[0]) for x in results]"
   ]
  },
  {
   "cell_type": "code",
   "execution_count": 16,
   "metadata": {},
   "outputs": [],
   "source": [
    "def getBestWay(mapTf,mapBM25,mapDFI):\n",
    "    print(f\"TF/IDF Map Score: {mapTf}\\nBM25 Map Score: {mapBM25}\\nDFI Map Score: {mapDFI}\")\n",
    "    if (mapTf > mapBM25) & (mapTf > mapDFI):\n",
    "        print(\"Best way is TF/IDF\")\n",
    "    elif (mapBM25 > mapTf) & (mapBM25 > mapDFI):\n",
    "        print(\"Best way is BM25\")\n",
    "    else: \n",
    "        print(\"Best way is DFI\")"
   ]
  },
  {
   "cell_type": "code",
   "execution_count": 9,
   "metadata": {},
   "outputs": [],
   "source": [
    "queries = (\"I knew you were trouble and I walked in\",\"Imagine all the people living life in peace\",\"If I fail, if I succeed At least I’ll live as I believe\",\n",
    "          \"Poems, Prayers, and Promises\",\"When life gets us down, this reminds us of the simplest pleasures\",\"Nothing can stop me, I'm all the way up\",\n",
    "          \"Hello, it's me\",\"It ain’t no fun if the homies can’t have none.\",\"I’m gonna live like tomorrow doesn’t exist.\",\"This is out house. This is out rules\")"
   ]
  },
  {
   "cell_type": "code",
   "execution_count": 10,
   "metadata": {},
   "outputs": [
    {
     "data": {
      "text/plain": [
       "10"
      ]
     },
     "execution_count": 10,
     "metadata": {},
     "output_type": "execute_result"
    }
   ],
   "source": [
    "len(queries)"
   ]
  },
  {
   "cell_type": "code",
   "execution_count": 12,
   "metadata": {},
   "outputs": [],
   "source": [
    "totalMapTfidf = 0\n",
    "totalMapBM25 = 0\n",
    "totalMapDFI = 0\n",
    "for i in queries:\n",
    "    resultTfIdf,resultBM25,resultDFI  = searchIndex(indexing,i,columnistData)\n",
    "    totalMapTfidf += find_map_score(getKeys(resultTfIdf))\n",
    "    totalMapBM25 += find_map_score(getKeys(resultBM25))\n",
    "    totalMapDFI += find_map_score(getKeys(resultDFI))   \n"
   ]
  },
  {
   "cell_type": "code",
   "execution_count": 17,
   "metadata": {},
   "outputs": [
    {
     "name": "stdout",
     "output_type": "stream",
     "text": [
      "TF/IDF Map Score: 0.05560013406205516\n",
      "BM25 Map Score: 0.04625062569482008\n",
      "DFI Map Score: 0.031667735023545335\n",
      "Best way is TF/IDF\n"
     ]
    }
   ],
   "source": [
    "getBestWay(totalMapTfidf,totalMapBM25,totalMapDFI)"
   ]
  },
  {
   "cell_type": "code",
   "execution_count": 18,
   "metadata": {},
   "outputs": [],
   "source": [
    "# Some Example Queries\n",
    "query1 = queries[1]   # Imagine all the people living life in peace\n",
    "resultTfIdf_query1,resultBM25_query1,resultDFI_query1  = searchIndex(indexing,query1,columnistData)"
   ]
  },
  {
   "cell_type": "code",
   "execution_count": 33,
   "metadata": {},
   "outputs": [
    {
     "name": "stdout",
     "output_type": "stream",
     "text": [
      "Results for 'Imagine all the people living life in peace'\n",
      "\tTF/IDF\t\t\t\t\tBM25\t\t\t\t\t\tDFI\n",
      "('1007', 0.19704433497536947)\t|\t('1007', 0.922554089582927)\t|\t('1439', 1.258632317513575)\n",
      "('668', 0.19337016574585636)\t|\t('668', 0.8407753020243999)\t|\t('1007', 1.2475799630860318)\n",
      "('1339', 0.19327731092436976)\t|\t('1339', 0.7978724800280871)\t|\t('471', 1.231098995863422)\n",
      "('1143', 0.18278427205100956)\t|\t('1407', 0.7924102972571379)\t|\t('457', 1.1655051475121136)\n",
      "('318', 0.1793103448275862)\t|\t('1301', 0.7718154126607761)\t|\t('1436', 1.1593761001808718)\n",
      "('333', 0.1761904761904762)\t|\t('997', 0.7615951126150894)\t|\t('997', 1.1525080710925903)\n",
      "('1343', 0.17536534446764093)\t|\t('1310', 0.760120180372431)\t|\t('1068', 1.1104904508024336)\n",
      "('628', 0.17513513513513512)\t|\t('1068', 0.7596285751712818)\t|\t('464', 1.1082932498083626)\n",
      "('600', 0.1737331954498449)\t|\t('489', 0.7502249751159125)\t|\t('1071', 1.1029044595345425)\n",
      "('634', 0.17372881355932204)\t|\t('471', 0.7415926951796092)\t|\t('1062', 1.0999854337589454)\n"
     ]
    }
   ],
   "source": [
    "print(f\"Results for '{query1}'\")\n",
    "print(\"\\tTF/IDF\\t\\t\\t\\t\\tBM25\\t\\t\\t\\t\\t\\tDFI\")\n",
    "for i in range(len(resultTfIdf)):\n",
    "    print(f\"{resultTfIdf_query1[i]}\\t|\\t{resultBM25_query1[i]}\\t|\\t{resultDFI_query1[i]}\")"
   ]
  },
  {
   "cell_type": "code",
   "execution_count": 35,
   "metadata": {},
   "outputs": [],
   "source": [
    "query2 = queries[5]   # Nothing can stop me, I'm all the way up\n",
    "resultTfIdf_query2,resultBM25_query2,resultDFI_query2  = searchIndex(indexing,query2,columnistData)"
   ]
  },
  {
   "cell_type": "code",
   "execution_count": 37,
   "metadata": {},
   "outputs": [
    {
     "name": "stdout",
     "output_type": "stream",
     "text": [
      "Results for 'Nothing can stop me, I'm all the way up'\n",
      "\tTF/IDF\t\t\t\t\tBM25\t\t\t\t\t\tDFI\n",
      "('1007', 0.19704433497536947)\t|\t('1007', 0.922554089582927)\t|\t('1439', 1.258632317513575)\n",
      "('668', 0.19337016574585636)\t|\t('668', 0.8407753020243999)\t|\t('1007', 1.2475799630860318)\n",
      "('1339', 0.19327731092436976)\t|\t('1339', 0.7978724800280871)\t|\t('471', 1.231098995863422)\n",
      "('1143', 0.18278427205100956)\t|\t('1407', 0.7924102972571379)\t|\t('457', 1.1655051475121136)\n",
      "('318', 0.1793103448275862)\t|\t('1301', 0.7718154126607761)\t|\t('1436', 1.1593761001808718)\n",
      "('333', 0.1761904761904762)\t|\t('997', 0.7615951126150894)\t|\t('997', 1.1525080710925903)\n",
      "('1343', 0.17536534446764093)\t|\t('1310', 0.760120180372431)\t|\t('1068', 1.1104904508024336)\n",
      "('628', 0.17513513513513512)\t|\t('1068', 0.7596285751712818)\t|\t('464', 1.1082932498083626)\n",
      "('600', 0.1737331954498449)\t|\t('489', 0.7502249751159125)\t|\t('1071', 1.1029044595345425)\n",
      "('634', 0.17372881355932204)\t|\t('471', 0.7415926951796092)\t|\t('1062', 1.0999854337589454)\n"
     ]
    }
   ],
   "source": [
    "print(f\"Results for '{query2}'\")\n",
    "print(\"\\tTF/IDF\\t\\t\\t\\t\\tBM25\\t\\t\\t\\t\\t\\tDFI\")\n",
    "for i in range(len(resultTfIdf)):\n",
    "    print(f\"{resultTfIdf_query2[i]}\\t|\\t{resultBM25_query2[i]}\\t|\\t{resultDFI_query2[i]}\")"
   ]
  },
  {
   "cell_type": "code",
   "execution_count": 44,
   "metadata": {},
   "outputs": [],
   "source": [
    "query3 = queries[0]   # I knew you were trouble and I walked in\n",
    "resultTfIdf_query3,resultBM25_query3,resultDFI_query3  = searchIndex(indexing,query3,columnistData)"
   ]
  },
  {
   "cell_type": "code",
   "execution_count": 46,
   "metadata": {},
   "outputs": [
    {
     "name": "stdout",
     "output_type": "stream",
     "text": [
      "Results for 'I knew you were trouble and I walked in'\n",
      "\tTF/IDF\t\t\t\t\tBM25\t\t\t\t\t\tDFI\n",
      "('773', 0.178118917260358)\t|\t('1435', 0.8985746411399416)\t|\t('1435', 1.1489138952360034)\n",
      "('777', 0.17589727863784746)\t|\t('773', 0.8294532534004507)\t|\t('1078', 1.015733463259284)\n",
      "('219', 0.17428354213658284)\t|\t('777', 0.7751178263528592)\t|\t('1098', 0.989227957709527)\n",
      "('700', 0.16956643357506024)\t|\t('219', 0.7659277449735132)\t|\t('1094', 0.9535448087044023)\n",
      "('1435', 0.16304675956332207)\t|\t('700', 0.7343541676928076)\t|\t('1053', 0.9498144221818301)\n",
      "('1133', 0.16093595328415472)\t|\t('1133', 0.6724457859315998)\t|\t('1051', 0.9274051362893126)\n",
      "('48', 0.1389698993796905)\t|\t('1098', 0.5723973548765179)\t|\t('1062', 0.923761533445893)\n",
      "('243', 0.13455471162651977)\t|\t('48', 0.5598260338767538)\t|\t('1069', 0.914186877819127)\n",
      "('229', 0.1336163124514179)\t|\t('229', 0.526933849366081)\t|\t('1081', 0.9047710383027058)\n",
      "('232', 0.12705124525781353)\t|\t('1078', 0.5088010614655191)\t|\t('1082', 0.8982058818067182)\n"
     ]
    }
   ],
   "source": [
    "print(f\"Results for '{query3}'\")\n",
    "print(\"\\tTF/IDF\\t\\t\\t\\t\\tBM25\\t\\t\\t\\t\\t\\tDFI\")\n",
    "for i in range(len(resultBM25_query3)):\n",
    "    print(f\"{resultTfIdf_query3[i]}\\t|\\t{resultBM25_query3[i]}\\t|\\t{resultDFI_query3[i]}\")"
   ]
  }
 ],
 "metadata": {
  "colab": {
   "collapsed_sections": [
    "L39jrAuH2-j-",
    "ACwXfVcs3By_"
   ],
   "name": "CENG3526-NLP-HW-Template.ipynb",
   "provenance": []
  },
  "kernelspec": {
   "display_name": "Python 3",
   "language": "python",
   "name": "python3"
  },
  "language_info": {
   "codemirror_mode": {
    "name": "ipython",
    "version": 3
   },
   "file_extension": ".py",
   "mimetype": "text/x-python",
   "name": "python",
   "nbconvert_exporter": "python",
   "pygments_lexer": "ipython3",
   "version": "3.7.4"
  }
 },
 "nbformat": 4,
 "nbformat_minor": 1
}
